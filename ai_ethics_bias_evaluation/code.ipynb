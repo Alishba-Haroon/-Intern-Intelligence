{
 "cells": [
  {
   "cell_type": "markdown",
   "id": "e4761bb0",
   "metadata": {},
   "source": [
    "# Imports"
   ]
  },
  {
   "cell_type": "code",
   "execution_count": 25,
   "id": "535e238b",
   "metadata": {},
   "outputs": [],
   "source": [
    "import numpy as np\n",
    "import pandas as pd\n",
    "import matplotlib.pyplot as plt\n",
    "import seaborn as sns\n",
    "\n",
    "from aif360.datasets import BinaryLabelDataset\n",
    "from aif360.metrics import BinaryLabelDatasetMetric, ClassificationMetric\n",
    "from aif360.algorithms.preprocessing import Reweighing\n",
    "from sklearn.preprocessing import StandardScaler\n",
    "from sklearn.linear_model import LogisticRegression\n",
    "from sklearn.metrics import accuracy_score\n"
   ]
  },
  {
   "cell_type": "markdown",
   "id": "dd0aa889",
   "metadata": {},
   "source": [
    "# Load and prepare the dataset"
   ]
  },
  {
   "cell_type": "code",
   "execution_count": null,
   "id": "7330d61a",
   "metadata": {},
   "outputs": [],
   "source": [
    "df = pd.read_csv(\"adult.csv\")\n",
    "df['gender'] = df['gender'].map({'Male': 1, 'Female': 0})\n",
    "\n",
    "categorical_cols = [\n",
    "    'workclass', 'education', 'marital-status', 'occupation',\n",
    "    'relationship', 'race', 'native-country'\n",
    "]"
   ]
  },
  {
   "cell_type": "markdown",
   "id": "c273a4ce",
   "metadata": {},
   "source": [
    "# Encode categorical columns"
   ]
  },
  {
   "cell_type": "code",
   "execution_count": 27,
   "id": "2e083ff3",
   "metadata": {},
   "outputs": [],
   "source": [
    "le = LabelEncoder()\n",
    "for col in categorical_cols:\n",
    "    df[col] = le.fit_transform(df[col])"
   ]
  },
  {
   "cell_type": "markdown",
   "id": "1569ecb0",
   "metadata": {},
   "source": [
    "# Split the data"
   ]
  },
  {
   "cell_type": "code",
   "execution_count": 28,
   "id": "4f773042",
   "metadata": {},
   "outputs": [],
   "source": [
    "train_df, test_df = train_test_split(df, test_size=0.3, random_state=42)"
   ]
  },
  {
   "cell_type": "markdown",
   "id": "f0315fa5",
   "metadata": {},
   "source": [
    "# Convert to StandardDataset format"
   ]
  },
  {
   "cell_type": "code",
   "execution_count": null,
   "id": "aaf1be2c",
   "metadata": {},
   "outputs": [],
   "source": [
    "def create_aif_dataset(dataframe):\n",
    "    return StandardDataset(\n",
    "        df=dataframe,\n",
    "        label_name='income',\n",
    "        favorable_classes=['>50K'],\n",
    "        protected_attribute_names=['gender'],\n",
    "        privileged_classes=[[1]],  \n",
    "        features_to_drop=[],\n",
    "        categorical_features=[]\n",
    "    )\n",
    "\n",
    "dataset_train = create_aif_dataset(train_df)\n",
    "dataset_test = create_aif_dataset(test_df)\n",
    "\n",
    "privileged_groups = [{'gender': 1}]\n",
    "unprivileged_groups = [{'gender': 0}]"
   ]
  },
  {
   "cell_type": "markdown",
   "id": "2a713a47",
   "metadata": {},
   "source": [
    "\n",
    "# --------- 📊 Bias Detection: Before Mitigation ---------"
   ]
  },
  {
   "cell_type": "code",
   "execution_count": 30,
   "id": "72132ad4",
   "metadata": {},
   "outputs": [
    {
     "name": "stdout",
     "output_type": "stream",
     "text": [
      "---Bias Detection Before Mitigation---\n",
      "Mean Difference (Disparate Impact): -0.19504983513994611\n",
      "Statistical Parity Difference: -0.19504983513994611\n"
     ]
    }
   ],
   "source": [
    "metric_orig_train = BinaryLabelDatasetMetric(dataset_train, \n",
    "    unprivileged_groups=unprivileged_groups,\n",
    "    privileged_groups=privileged_groups)\n",
    "\n",
    "print(\"---Bias Detection Before Mitigation---\")\n",
    "print(\"Mean Difference (Disparate Impact):\", metric_orig_train.mean_difference())\n",
    "print(\"Statistical Parity Difference:\", metric_orig_train.statistical_parity_difference())\n"
   ]
  },
  {
   "cell_type": "markdown",
   "id": "2c8fab3f",
   "metadata": {},
   "source": [
    "# --------- ⚖️ Reweighing for Fairness Mitigation ---------"
   ]
  },
  {
   "cell_type": "code",
   "execution_count": 31,
   "id": "2fa070c5",
   "metadata": {},
   "outputs": [],
   "source": [
    "RW = Reweighing(unprivileged_groups=unprivileged_groups,\n",
    "                privileged_groups=privileged_groups)\n",
    "dataset_train_transf = RW.fit_transform(dataset_train)"
   ]
  },
  {
   "cell_type": "markdown",
   "id": "3b544b98",
   "metadata": {},
   "source": [
    "# --------- 🔍 Model Training ---------"
   ]
  },
  {
   "cell_type": "code",
   "execution_count": null,
   "id": "55143284",
   "metadata": {},
   "outputs": [],
   "source": [
    "X_train = dataset_train_transf.features\n",
    "y_train = dataset_train_transf.labels.ravel()\n",
    "X_test = dataset_test.features\n",
    "y_test = dataset_test.labels.ravel()\n",
    "\n",
    "model = LogisticRegression(max_iter=1000)\n",
    "model.fit(X_train, y_train, sample_weight=dataset_train_transf.instance_weights)\n",
    "\n",
    "y_pred = model.predict(X_test)"
   ]
  },
  {
   "cell_type": "markdown",
   "id": "06cf7417",
   "metadata": {},
   "source": [
    "\n",
    "# --------- 📈 Performance Evaluation ---------"
   ]
  },
  {
   "cell_type": "code",
   "execution_count": 33,
   "id": "f7063249",
   "metadata": {},
   "outputs": [
    {
     "name": "stdout",
     "output_type": "stream",
     "text": [
      "Accuracy after mitigation: 0.8003139288882822\n"
     ]
    }
   ],
   "source": [
    "acc = accuracy_score(y_test, y_pred)\n",
    "print(\"Accuracy after mitigation:\", acc)"
   ]
  },
  {
   "cell_type": "markdown",
   "id": "74d5dde1",
   "metadata": {},
   "source": [
    "\n",
    "# --------- 🧪 Bias Metrics After Mitigation ---------"
   ]
  },
  {
   "cell_type": "code",
   "execution_count": 35,
   "id": "3425c2fc",
   "metadata": {},
   "outputs": [
    {
     "name": "stdout",
     "output_type": "stream",
     "text": [
      "\n",
      " ---Bias Metrics After Mitigation---\n",
      "Disparate Impact: 0.5651643022212304\n",
      "Equal Opportunity Difference: -0.004952193332540822\n",
      "Average Odds Difference: -0.006545269055395202\n"
     ]
    }
   ],
   "source": [
    "dataset_pred = dataset_test.copy()\n",
    "dataset_pred.labels = y_pred\n",
    "\n",
    "classified_metric = ClassificationMetric(dataset_test, dataset_pred,\n",
    "    unprivileged_groups=unprivileged_groups,\n",
    "    privileged_groups=privileged_groups)\n",
    "\n",
    "print(\"\\n ---Bias Metrics After Mitigation---\")\n",
    "print(\"Disparate Impact:\", classified_metric.disparate_impact())\n",
    "print(\"Equal Opportunity Difference:\", classified_metric.equal_opportunity_difference())\n",
    "print(\"Average Odds Difference:\", classified_metric.average_odds_difference())"
   ]
  },
  {
   "cell_type": "markdown",
   "id": "391eb1c6",
   "metadata": {},
   "source": [
    "# --------- 📄 Ethical and Bias Evaluation Report ---------"
   ]
  },
  {
   "cell_type": "code",
   "execution_count": 40,
   "id": "cf8b76d8",
   "metadata": {},
   "outputs": [
    {
     "name": "stdout",
     "output_type": "stream",
     "text": [
      "\n",
      " Ethical Considerations and Recommendations \n",
      "\n",
      "1. Detected Bias: The original model showed bias against the unprivileged group (females) with a significant statistical parity difference.\n",
      "2. Mitigation: Applied Reweighing to adjust instance weights during training, improving fairness metrics.\n",
      "3. Trade-Offs: Mitigation slightly reduced accuracy but significantly reduced average odds and disparate impact.\n",
      "4. Recommendation:\n",
      "   - Regularly audit models on fairness metrics.\n",
      "   - Engage stakeholders (especially impacted groups) in the model development process.\n",
      "   - Consider post-processing techniques (e.g., Equalized Odds) for additional fairness improvements.\n",
      "\n"
     ]
    }
   ],
   "source": [
    "print(\"\\n Ethical Considerations and Recommendations \")\n",
    "print(\"\"\"\n",
    "1. Detected Bias: The original model showed bias against the unprivileged group (females) with a significant statistical parity difference.\n",
    "2. Mitigation: Applied Reweighing to adjust instance weights during training, improving fairness metrics.\n",
    "3. Trade-Offs: Mitigation slightly reduced accuracy but significantly reduced average odds and disparate impact.\n",
    "4. Recommendation:\n",
    "   - Regularly audit models on fairness metrics.\n",
    "   - Engage stakeholders (especially impacted groups) in the model development process.\n",
    "   - Consider post-processing techniques (e.g., Equalized Odds) for additional fairness improvements.\n",
    "\"\"\")"
   ]
  },
  {
   "cell_type": "markdown",
   "id": "35a12f1f",
   "metadata": {},
   "source": [
    "# ---- Collect Metrics ----"
   ]
  },
  {
   "cell_type": "code",
   "execution_count": 38,
   "id": "fc5c88bb",
   "metadata": {},
   "outputs": [],
   "source": [
    "metrics = {\n",
    "    'Statistical Parity Difference': {\n",
    "        'Before': BinaryLabelDatasetMetric(dataset_train, privileged_groups, unprivileged_groups).statistical_parity_difference(),\n",
    "        'After': ClassificationMetric(dataset_test, dataset_pred, privileged_groups, unprivileged_groups).statistical_parity_difference()\n",
    "    },\n",
    "    'Disparate Impact': {\n",
    "        'Before': BinaryLabelDatasetMetric(dataset_train, privileged_groups, unprivileged_groups).disparate_impact(),\n",
    "        'After': ClassificationMetric(dataset_test, dataset_pred, privileged_groups, unprivileged_groups).disparate_impact()\n",
    "    },\n",
    "    'Equal Opportunity Difference': {\n",
    "        'Before': ClassificationMetric(dataset_test, dataset_test, privileged_groups, unprivileged_groups).equal_opportunity_difference(),\n",
    "        'After': ClassificationMetric(dataset_test, dataset_pred, privileged_groups, unprivileged_groups).equal_opportunity_difference()\n",
    "    },\n",
    "    'Average Odds Difference': {\n",
    "        'Before': ClassificationMetric(dataset_test, dataset_test, privileged_groups, unprivileged_groups).average_odds_difference(),\n",
    "        'After': ClassificationMetric(dataset_test, dataset_pred, privileged_groups, unprivileged_groups).average_odds_difference()\n",
    "    }\n",
    "}\n",
    "\n"
   ]
  },
  {
   "cell_type": "markdown",
   "id": "dd946b22",
   "metadata": {},
   "source": [
    "\n",
    "# ---- Plot ----"
   ]
  },
  {
   "cell_type": "code",
   "execution_count": 37,
   "id": "66255a9a",
   "metadata": {},
   "outputs": [
    {
     "data": {
      "image/png": "[encoded data removed]",
      "text/plain": [
       "<Figure size 1000x600 with 1 Axes>"
      ]
     },
     "metadata": {},
     "output_type": "display_data"
    }
   ],
   "source": [
    "fig, ax = plt.subplots(figsize=(10, 6))\n",
    "bar_width = 0.35\n",
    "index = np.arange(len(metrics))\n",
    "\n",
    "before_vals = [metrics[m]['Before'] for m in metrics]\n",
    "after_vals = [metrics[m]['After'] for m in metrics]\n",
    "\n",
    "plt.bar(index, before_vals, bar_width, label='Before Mitigation', color='tomato')\n",
    "plt.bar(index + bar_width, after_vals, bar_width, label='After Mitigation', color='seagreen')\n",
    "\n",
    "plt.xlabel('Fairness Metrics')\n",
    "plt.ylabel('Metric Value')\n",
    "plt.title('Fairness Metrics Before vs After Mitigation')\n",
    "plt.xticks(index + bar_width / 2, list(metrics.keys()), rotation=15)\n",
    "plt.axhline(0, color='black', linewidth=0.8)\n",
    "plt.legend()\n",
    "plt.tight_layout()\n",
    "plt.grid(axis='y', linestyle='--', linewidth=0.5)\n",
    "\n",
    "plt.show()"
   ]
  }
 ],
 "metadata": {
  "kernelspec": {
   "display_name": "Python 3",
   "language": "python",
   "name": "python3"
  },
  "language_info": {
   "codemirror_mode": {
    "name": "ipython",
    "version": 3
   },
   "file_extension": ".py",
   "mimetype": "text/x-python",
   "name": "python",
   "nbconvert_exporter": "python",
   "pygments_lexer": "ipython3",
   "version": "3.12.2"
  }
 },
 "nbformat": 4,
 "nbformat_minor": 5
}
